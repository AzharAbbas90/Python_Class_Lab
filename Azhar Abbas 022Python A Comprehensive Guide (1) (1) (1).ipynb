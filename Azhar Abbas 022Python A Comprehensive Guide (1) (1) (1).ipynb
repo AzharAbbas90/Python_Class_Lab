{
 "cells": [
  {
   "cell_type": "markdown",
   "id": "81a365e3",
   "metadata": {},
   "source": [
    "# Classes in Python: A Comprehensive Guide\n",
    "\n",
    "## Introduction\n",
    "### In Python, classes are a fundamental building block for object-oriented programming (OOP). OOP is a programming paradigm that uses objects and classes to model real-world scenarios. They allow you to create user-defined data structures that encapsulate both data (attributes) and behavior (methods). This encapsulation promotes code reusability, modularity, and maintainability."
   ]
  },
  {
   "cell_type": "markdown",
   "id": "0a0d6649",
   "metadata": {},
   "source": [
    "## Key Concepts\n",
    "### Class: A blueprint for creating objects. It defines the attributes and methods that objects of that class will possess.\n",
    "### Object: An instance of a class. It has its own unique set of attribute values.\n",
    "### Attributes: Variables that store data associated with an object.\n",
    "### Methods: Functions that operate on the object's data.\n",
    "### Constructor: A special method called __init__ that is automatically invoked when an object is created. It initializes the object's attributes.\n",
    "## Creating a Class and Object"
   ]
  },
  {
   "cell_type": "code",
   "execution_count": 1,
   "id": "0239378a",
   "metadata": {},
   "outputs": [
    {
     "name": "stdout",
     "output_type": "stream",
     "text": [
      "Buddy\n",
      "Buddy barks!\n"
     ]
    }
   ],
   "source": [
    "class Dog:\n",
    "    def __init__(self, name, breed):\n",
    "        self.name = name\n",
    "        self.breed = breed\n",
    "\n",
    "    def bark(self):\n",
    "        print(f\"{self.name} barks!\")\n",
    "\n",
    "# Create an object of the Dog class\n",
    "my_dog = Dog(\"Buddy\", \"Golden Retriever\")\n",
    "\n",
    "# Access attributes and call methods\n",
    "print(my_dog.name)  # Output: Buddy\n",
    "my_dog.bark()  # Output: Buddy barks!"
   ]
  },
  {
   "cell_type": "code",
   "execution_count": 10,
   "id": "4fdf8ab6-94e4-456d-a4e3-43d7421e8454",
   "metadata": {},
   "outputs": [
    {
     "name": "stdout",
     "output_type": "stream",
     "text": [
      "amina\n",
      "19\n",
      "fsd\n"
     ]
    }
   ],
   "source": [
    "#create a class person\n",
    "class person:                 #QUESTION 1\n",
    "     def __init__(self, name,age, city):\n",
    "          self.name = name\n",
    "          self.age=age\n",
    "          self.city= city\n",
    "person1= person(\"amina\", 19, \"fsd\")\n",
    "print(person1.name)\n",
    "print(person1.age)\n",
    "print(person1.city)\n"
   ]
  },
  {
   "cell_type": "code",
   "execution_count": 36,
   "id": "67b93994-5a61-4d12-934a-21f94f2172e4",
   "metadata": {},
   "outputs": [
    {
     "name": "stdout",
     "output_type": "stream",
     "text": [
      "2023\n",
      "2024\n",
      "2025\n",
      "make =2023,model=2024,year=2025\n"
     ]
    }
   ],
   "source": [
    "#CREATE A CLASS CAR\n",
    "class car:\n",
    "     def __init__(self, make,model,year):         #QUESTION 2\n",
    "          self.make = make\n",
    "          self.model=model\n",
    "          self.year= year\n",
    "     def type (self):\n",
    "             print(f\"make ={self.make},model={self.model},year={self.year}\")\n",
    "yeyeye=car(2023,2024,2025)\n",
    "print(yeyeye.make)\n",
    "print(yeyeye.model)\n",
    "print(yeyeye.year)\n",
    "yeyeye.type()"
   ]
  },
  {
   "cell_type": "code",
   "execution_count": null,
   "id": "81e71325-3b18-4136-9dac-0a6aeaeca3c0",
   "metadata": {},
   "outputs": [],
   "source": []
  },
  {
   "cell_type": "code",
   "execution_count": 1,
   "id": "b6d5a59d-77f0-4183-87af-1f57acf3d35f",
   "metadata": {},
   "outputs": [
    {
     "name": "stdout",
     "output_type": "stream",
     "text": [
      "Buddy\n",
      "Buddy barks!\n"
     ]
    }
   ],
   "source": [
    "class Dog:\n",
    "    def __init__(self, name, breed):\n",
    "        self.name = name\n",
    "        self.breed = breed\n",
    "\n",
    "    def bark(self):\n",
    "        print(f\"{self.name} barks!\")\n",
    "\n",
    "# Create an object of the Dog class\n",
    "my_dog = Dog(\"Buddy\", \"Golden Retriever\")\n",
    "\n",
    "# Access attributes and call methods\n",
    "print(my_dog.name)  # Output: Buddy\n",
    "my_dog.bark()  # Output: Buddy barks!"
   ]
  },
  {
   "cell_type": "markdown",
   "id": "db04f438",
   "metadata": {},
   "source": [
    "## Inheritance\n",
    "### Inheritance allows you to create new classes (child classes) that inherit attributes and methods from existing classes (parent classes). This promotes code reuse and hierarchical relationships between classes."
   ]
  },
  {
   "cell_type": "code",
   "execution_count": 2,
   "id": "9dcf9e3a",
   "metadata": {},
   "outputs": [
    {
     "name": "stdout",
     "output_type": "stream",
     "text": [
      "Buddy is eating.\n",
      "Buddy barks!\n"
     ]
    }
   ],
   "source": [
    "class Animal:\n",
    "    def __init__(self, name):\n",
    "        self.name = name\n",
    "\n",
    "    def eat(self):\n",
    "        print(f\"{self.name} is eating.\")\n",
    "\n",
    "class Dog(Animal):\n",
    "    def bark(self):\n",
    "        print(f\"{self.name} barks!\")\n",
    "\n",
    "my_dog = Dog(\"Buddy\")\n",
    "my_dog.eat()  # Output: Buddy is eating.\n",
    "my_dog.bark()  # Output: Buddy barks!"
   ]
  },
  {
   "cell_type": "code",
   "execution_count": 32,
   "id": "0d3e33cc-7d16-46b0-8c53-de2e30a5dc01",
   "metadata": {},
   "outputs": [
    {
     "name": "stdout",
     "output_type": "stream",
     "text": [
      "Bilal is eating.\n",
      "Bilal speaks!\n"
     ]
    }
   ],
   "source": [
    "class human:\n",
    "    def __init__(self, name):\n",
    "        self.name = name\n",
    "    def eat(self):\n",
    "          print(f\"{self.name} is eating.\")\n",
    "class person(human):\n",
    "    def euuuu(self):\n",
    "        print(f\"{self.name} speaks!\")\n",
    "myself =person(\"Bilal\")\n",
    "myself.eat()  \n",
    "myself.euuuu() \n"
   ]
  },
  {
   "cell_type": "markdown",
   "id": "d76e9927",
   "metadata": {},
   "source": [
    "## Encapsulation\n",
    "### Encapsulation is the practice of hiding the internal implementation details of a class from the outside world. This promotes code modularity and prevents unintended modifications."
   ]
  },
  {
   "cell_type": "code",
   "execution_count": 27,
   "id": "788a14d6",
   "metadata": {},
   "outputs": [],
   "source": [
    "class BankAccount:\n",
    "    def __init__(self, balance):\n",
    "        self.__balance = balance  # Private attribute\n",
    "\n",
    "    def deposit(self, amount):\n",
    "        self.__balance += amount\n",
    "\n",
    "    def withdraw(self, amount):\n",
    "        if self.__balance >= amount:\n",
    "            self.__balance -= amount\n",
    "        else:\n",
    "            print(\"Insufficient funds.\")\n",
    "\n",
    "    def get_balance(self):\n",
    "        return self.__balance"
   ]
  },
  {
   "cell_type": "markdown",
   "id": "99ec9b48",
   "metadata": {},
   "source": [
    "## Practice Exercises\n",
    "\n",
    "### 1. Create a class Person with attributes name, age, and city.\n",
    "### 2. Create a class Car with attributes make, model, and year.\n",
    "### 3. Create a class Circle with attributes radius and methods to calculate area and circumference.\n",
    "### 4. Create a class Rectangle with attributes length and width and methods to calculate area and perimeter.\n",
    "### 5. Create a class Student with attributes name, roll_number, and marks. Implement a method to calculate the average marks.\n",
    "### 6. Create a class Book with attributes title, author, and publication_year.\n",
    "### 7. Create a class Employee with attributes name, salary, and designation.\n",
    "### 8. Create a class Bank with attributes name, account_number, and balance. Implement methods to deposit and withdraw money.\n",
    "### 9. Create a class Shape with a method to calculate area. Create subclasses Circle, Rectangle, and Triangle that inherit from Shape and implement their specific area calculations.\n",
    "### 10. Create a class Animal with attributes name and sound. Create subclasses Dog, Cat, and Cow that inherit from Animal and implement their specific sounds.\n",
    "\n",
    "## Additional Tips\n",
    "### Use meaningful names for classes, attributes, and methods.\n",
    "### Write clear and concise code.\n",
    "### Use comments to explain complex logic.\n",
    "### Test your code thoroughly.\n",
    "### Consider using inheritance to avoid code duplication.\n",
    "### Encapsulate data to protect it from accidental modification.\n",
    "### Use polymorphism to create flexible and adaptable code."
   ]
  },
  {
   "cell_type": "code",
   "execution_count": 5,
   "id": "cae0ab42",
   "metadata": {},
   "outputs": [
    {
     "name": "stdout",
     "output_type": "stream",
     "text": [
      "azhar 19 kasur\n"
     ]
    }
   ],
   "source": [
    "#Question 1\n",
    "class person():\n",
    "    def __init__(self,name,age,city):\n",
    "        self.name=name\n",
    "        self.age=age\n",
    "        self.city=city\n",
    "a1=person(\"azhar\",19,\"kasur\")\n",
    "print(a1.name,a1.age,a1.city)"
   ]
  },
  {
   "cell_type": "code",
   "execution_count": 6,
   "id": "de1cccce-5730-4b5e-b1ce-687037726084",
   "metadata": {},
   "outputs": [
    {
     "name": "stdout",
     "output_type": "stream",
     "text": [
      "toyota\n",
      "New\n",
      "2025\n"
     ]
    }
   ],
   "source": [
    "#question 2\n",
    "class Car():\n",
    "    def __init__(self,make,model,year):\n",
    "        self.make=make\n",
    "        self.model=model\n",
    "        self.year=year\n",
    "a2=Car(\"toyota\",\"New\",\"2025\")\n",
    "print(a2.make)\n",
    "print(a2.model)\n",
    "print(a2.year)"
   ]
  },
  {
   "cell_type": "code",
   "execution_count": 16,
   "id": "15553089-c4fd-4e11-a106-9c7f1578bd33",
   "metadata": {},
   "outputs": [
    {
     "name": "stdout",
     "output_type": "stream",
     "text": [
      "4\n",
      "50.24\n",
      "25.12\n"
     ]
    }
   ],
   "source": [
    "#\n",
    "#Question 3\n",
    "class Circle():\n",
    "    def __init__(self,radius):\n",
    "        self.radius=radius\n",
    "    def area (self):\n",
    "        p= 3.14*self.radius**2\n",
    "        print(p)\n",
    "    def circumference(self):\n",
    "        q=2*3.14*self.radius\n",
    "        print(q)\n",
    "        \n",
    "a1=Circle(4)\n",
    "print(a1.radius)\n",
    "a1.area()\n",
    "a1.circumference()\n",
    "\n"
   ]
  },
  {
   "cell_type": "code",
   "execution_count": 17,
   "id": "6d6bd84d-99ad-4117-ba6b-0afc8036b6d5",
   "metadata": {},
   "outputs": [
    {
     "name": "stdout",
     "output_type": "stream",
     "text": [
      " area of rectangle is 4\n",
      " perimeter of rectangle is 8\n"
     ]
    }
   ],
   "source": [
    "#Question 4\n",
    "\n",
    "class Rectangle():\n",
    "    def __init__(self,length,width):\n",
    "        self.length=length\n",
    "        self.width=width\n",
    "    def area(self):\n",
    "        print(f\" area of rectangle is {self.length*self.width}\")\n",
    "    def perimeter(self):\n",
    "        print(f\" perimeter of rectangle is {2*(self.length+self.width)}\")\n",
    "my_rectangle=Rectangle(2,2)\n",
    "my_rectangle.area()\n",
    "my_rectangle.perimeter()\n"
   ]
  },
  {
   "cell_type": "code",
   "execution_count": 1,
   "id": "3609e695-9cb3-4c13-aa7e-3ea85541a58e",
   "metadata": {},
   "outputs": [
    {
     "name": "stdout",
     "output_type": "stream",
     "text": [
      "The average marks of student Azhar are: 26.75\n"
     ]
    }
   ],
   "source": [
    "#Question 5\n",
    "class Student:\n",
    "    def __init__(self, marks, name, code):\n",
    "        self.marks = marks\n",
    "        self.name = name\n",
    "        self.code = code\n",
    "    def avg(self):\n",
    "        total = sum(self.marks)\n",
    "        average = total / len(self.marks)\n",
    "        print(f\"The average marks of student {self.name} are: {average}\")\n",
    "obj = Student([10, 39, 24, 34], \"Azhar\", 999)\n",
    "obj.avg()\n"
   ]
  },
  {
   "cell_type": "code",
   "execution_count": 7,
   "id": "ecfdaee2-b205-44fe-b8bf-1114b48b0788",
   "metadata": {},
   "outputs": [
    {
     "name": "stdout",
     "output_type": "stream",
     "text": [
      "my last Wish\n",
      "Azhar Abbas\n",
      "2026\n"
     ]
    }
   ],
   "source": [
    "#Question 6\n",
    "class Book( ):\n",
    "    def __init__(self,title,author,publication_year):\n",
    "        self.title=title\n",
    "        self.author=author\n",
    "        self.publication_year=publication_year\n",
    "\n",
    "o_yes_buddy=Book(\"my last Wish\",\"Azhar Abbas\",2026)\n",
    "print(o_yes_buddy.title)\n",
    "print(o_yes_buddy.author)\n",
    "print(o_yes_buddy.publication_year)\n",
    "        "
   ]
  },
  {
   "cell_type": "code",
   "execution_count": 23,
   "id": "c627c40e-91b8-4d2f-8d6c-c2c78bebe616",
   "metadata": {},
   "outputs": [
    {
     "ename": "TypeError",
     "evalue": "Employee() takes no arguments",
     "output_type": "error",
     "traceback": [
      "\u001b[1;31m---------------------------------------------------------------------------\u001b[0m",
      "\u001b[1;31mTypeError\u001b[0m                                 Traceback (most recent call last)",
      "Cell \u001b[1;32mIn[23], line 8\u001b[0m\n\u001b[0;32m      5\u001b[0m         \u001b[38;5;28mself\u001b[39m\u001b[38;5;241m.\u001b[39msalary\u001b[38;5;241m=\u001b[39msalary\n\u001b[0;32m      6\u001b[0m         \u001b[38;5;28mself\u001b[39m\u001b[38;5;241m.\u001b[39mdesignation\u001b[38;5;241m=\u001b[39mdesignation\n\u001b[1;32m----> 8\u001b[0m o_my_god\u001b[38;5;241m=\u001b[39mEmployee(\u001b[38;5;124m\"\u001b[39m\u001b[38;5;124mqasim\u001b[39m\u001b[38;5;124m\"\u001b[39m,\u001b[38;5;241m150000\u001b[39m,\u001b[38;5;124m\"\u001b[39m\u001b[38;5;124midk\u001b[39m\u001b[38;5;124m\"\u001b[39m)\n\u001b[0;32m      9\u001b[0m \u001b[38;5;28mprint\u001b[39m(o_my_god\u001b[38;5;241m.\u001b[39mname)\n\u001b[0;32m     10\u001b[0m \u001b[38;5;28mprint\u001b[39m(o_my_god\u001b[38;5;241m.\u001b[39msalary)\n",
      "\u001b[1;31mTypeError\u001b[0m: Employee() takes no arguments"
     ]
    }
   ],
   "source": [
    "#question 7\n",
    "class Employee:\n",
    "    def __init_(self,name,salary,designation):\n",
    "        self.name=name\n",
    "        self.salary=salary\n",
    "        self.designation=designation\n",
    "\n",
    "o_my_god=Employee(\"qasim\",150000,\"idk\")\n",
    "print(o_my_god.name)\n",
    "print(o_my_god.salary)\n",
    "print(o_my_god.designation)"
   ]
  },
  {
   "cell_type": "code",
   "execution_count": 22,
   "id": "1f968efa-e4b3-4095-820e-f283c38953a0",
   "metadata": {},
   "outputs": [
    {
     "name": "stdout",
     "output_type": "stream",
     "text": [
      "2300\n",
      "1800\n"
     ]
    }
   ],
   "source": [
    "#Question 8\n",
    "class Bank():\n",
    "    def __init__(self,name,account_number,balance):\n",
    "        self.name=name\n",
    "        self.account_number=account_number\n",
    "        self.balance=balance\n",
    "    def deposit(self,amount):\n",
    "        a=self.balance+ amount\n",
    "        print(a)\n",
    "    def widraw(self,widraw):\n",
    "        b=self.balance- widraw\n",
    "        print(b)\n",
    "a1=Bank(\"azhar\",10222,2000)\n",
    "a1.deposit(300)\n",
    "a1.widraw(200)\n",
    "    "
   ]
  },
  {
   "cell_type": "code",
   "execution_count": null,
   "id": "03d47e46-64af-4c2f-844e-edda83483455",
   "metadata": {},
   "outputs": [],
   "source": []
  }
 ],
 "metadata": {
  "kernelspec": {
   "display_name": "Python 3 (ipykernel)",
   "language": "python",
   "name": "python3"
  },
  "language_info": {
   "codemirror_mode": {
    "name": "ipython",
    "version": 3
   },
   "file_extension": ".py",
   "mimetype": "text/x-python",
   "name": "python",
   "nbconvert_exporter": "python",
   "pygments_lexer": "ipython3",
   "version": "3.12.7"
  }
 },
 "nbformat": 4,
 "nbformat_minor": 5
}
