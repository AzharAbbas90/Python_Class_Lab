{
 "cells": [
  {
   "cell_type": "code",
   "execution_count": 1,
   "id": "ad9727f2-2d06-4c35-b1be-142686042a59",
   "metadata": {},
   "outputs": [
    {
     "name": "stdout",
     "output_type": "stream",
     "text": [
      "{'Name': 'AZHAR', 'Age': 19, 'City': 'KASUR', 'Hobbies': ['badminton']}\n"
     ]
    }
   ],
   "source": [
    "#QUESTION1\n",
    "\n",
    "person = {\"Name\": \"AZHAR\",\n",
    "          \"Age\": 19, \n",
    "          \"City\": \"KASUR\",\n",
    "          \"Hobbies\": [\"badminton\"]\n",
    "         }\n",
    "print(person)"
   ]
  },
  {
   "cell_type": "code",
   "execution_count": 5,
   "id": "cb11a356-097b-46d5-938e-0299b52aa7fd",
   "metadata": {},
   "outputs": [
    {
     "name": "stdin",
     "output_type": "stream",
     "text": [
      "enter 12\n"
     ]
    },
    {
     "name": "stdout",
     "output_type": "stream",
     "text": [
      "{'12': 1}\n"
     ]
    }
   ],
   "source": [
    "# B\n",
    "\n",
    "text = input(\"enter\")\n",
    "words = text.split()\n",
    "frequency = {}\n",
    "for word in set(words):\n",
    "    frequency[word] = words.count(word)\n",
    "print(frequency)"
   ]
  },
  {
   "cell_type": "code",
   "execution_count": 3,
   "id": "d1747217-e5b5-46b1-823e-eca0e4e3fef9",
   "metadata": {},
   "outputs": [
    {
     "ename": "NameError",
     "evalue": "name 'inventory' is not defined",
     "output_type": "error",
     "traceback": [
      "\u001b[1;31m---------------------------------------------------------------------------\u001b[0m",
      "\u001b[1;31mNameError\u001b[0m                                 Traceback (most recent call last)",
      "Cell \u001b[1;32mIn[3], line 7\u001b[0m\n\u001b[0;32m      5\u001b[0m items[\u001b[38;5;124m\"\u001b[39m\u001b[38;5;124mapple\u001b[39m\u001b[38;5;124m\"\u001b[39m] \u001b[38;5;241m+\u001b[39m\u001b[38;5;241m=\u001b[39m \u001b[38;5;241m6\u001b[39m\n\u001b[0;32m      6\u001b[0m items[\u001b[38;5;124m\"\u001b[39m\u001b[38;5;124mrice\u001b[39m\u001b[38;5;124m\"\u001b[39m] \u001b[38;5;241m-\u001b[39m\u001b[38;5;241m=\u001b[39m\u001b[38;5;241m3\u001b[39m \n\u001b[1;32m----> 7\u001b[0m \u001b[38;5;28mprint\u001b[39m(\u001b[38;5;124m\"\u001b[39m\u001b[38;5;124mUpdated:\u001b[39m\u001b[38;5;124m\"\u001b[39m, inventory)\n",
      "\u001b[1;31mNameError\u001b[0m: name 'inventory' is not defined"
     ]
    }
   ],
   "source": [
    "# B\n",
    "\n",
    "items = {\"slice\": 104, \"apple\": 15, \"rice\": 30}\n",
    "items[\"slice\"] -= 12\n",
    "items[\"apple\"] += 6\n",
    "items[\"rice\"] -=3 \n",
    "print(\"Updated:\", inventory)"
   ]
  },
  {
   "cell_type": "code",
   "execution_count": 9,
   "id": "7463b090-1a59-43d1-86c2-1a18c584218f",
   "metadata": {},
   "outputs": [
    {
     "name": "stdout",
     "output_type": "stream",
     "text": [
      "Most Popular Category: Clothing\n"
     ]
    }
   ],
   "source": [
    "# D\n",
    "\n",
    "orders = [\"Clothing\", \"Clothing\", \"fee\", \"bill\"]\n",
    "categories = {}\n",
    "for category in orders:\n",
    "    categories[category] = categories.get(category, 0) + 1\n",
    "popular_category = max(categories, key=categories.get)\n",
    "print(\"Most Popular Category:\", popular_category)\n"
   ]
  },
  {
   "cell_type": "code",
   "execution_count": 11,
   "id": "fe7ef25a-507b-42ad-baac-439e1f8cca95",
   "metadata": {},
   "outputs": [
    {
     "name": "stdout",
     "output_type": "stream",
     "text": [
      "Average Grade: 40.0\n"
     ]
    }
   ],
   "source": [
    "# E\n",
    "\n",
    "grades = {\"Azhar\": [80], \"qasim\": [35], \"umer\": [30], \"Ahmed\": [15]}\n",
    "average = sum(grades[\"Azhar\"] + grades[\"qasim\"] + grades[\"umer\"] + grades[\"Ahmed\"]) / 4\n",
    "print(\"Average Grade:\", average)"
   ]
  },
  {
   "cell_type": "code",
   "execution_count": 13,
   "id": "289a0fd9-4416-42b0-8fd3-eab19c9d08f9",
   "metadata": {},
   "outputs": [
    {
     "name": "stdout",
     "output_type": "stream",
     "text": [
      "Average Grades: {'Ali': 43.333333333333336, 'Hussain': 62.0, 'Hassan': 26.666666666666668}\n",
      "Highest Grade in urdu: Hussain\n",
      "Lowest Grade in urdu: Hassan\n",
      "Students Sorted by Average Grades: ['Hussain', 'Ali', 'Hassan']\n"
     ]
    }
   ],
   "source": [
    "# G\n",
    "students = {\n",
    "    \"Ali\": {\"urdu\": 30, \"isl\": 20, \"english\": 80},\n",
    "    \"Hussain\": {\"urdu\": 78, \"isl\": 20, \"english\": 88},\n",
    "    \"Hassan\": {\"urdu\": 0, \"isl\": 80, \"english\": 0},\n",
    "}\n",
    "average_grades = {name: sum(grades.values()) / len(grades) for name, grades in students.items()}\n",
    "highest_urdu = max(students, key=lambda x: students[x][\"urdu\"])\n",
    "lowest_urdu = min(students, key=lambda x: students[x][\"urdu\"])\n",
    "sorted_students = sorted(average_grades, key=average_grades.get, reverse=True)\n",
    "\n",
    "print(\"Average Grades:\", average_grades)\n",
    "print(\"Highest Grade in urdu:\", highest_urdu)\n",
    "print(\"Lowest Grade in urdu:\", lowest_urdu)\n",
    "print(\"Students Sorted by Average Grades:\", sorted_students)"
   ]
  },
  {
   "cell_type": "code",
   "execution_count": 15,
   "id": "1fc9c0de-9cba-4541-8f91-1df52f4fa91f",
   "metadata": {},
   "outputs": [
    {
     "name": "stdout",
     "output_type": "stream",
     "text": [
      "Cannot remove 1 IGI(s)\n",
      "Total cost: $2478.60\n"
     ]
    }
   ],
   "source": [
    "# H\n",
    "inventory = {\n",
    "    \"ps5\": {\"price\": 800, \"stock\": 11},\n",
    "    \"xbox\": {\"price\": 300, \"stock\": 44},\n",
    "    \"ps4\": {\"price\": 650, \"stock\": 30},\n",
    "    \"IGI\": {\"price\":400, \"stock\":12}\n",
    "}\n",
    "\n",
    "cart = {}\n",
    "\n",
    "def add_to_cart(item, quantity):\n",
    "    if item in inventory and inventory[item][\"stock\"] >= quantity:\n",
    "        if item in cart:\n",
    "            cart[item][\"quantity\"] += quantity\n",
    "        else:\n",
    "            cart[item] = {\"price\": inventory[item][\"price\"], \"quantity\": quantity}\n",
    "        inventory[item][\"stock\"] -= quantity\n",
    "    else:\n",
    "        print(f\"Cannot add {quantity} {item}(s)\")\n",
    "\n",
    "def remove_from_cart(item, quantity):\n",
    "    if item in cart and cart[item][\"quantity\"] >= quantity:\n",
    "        cart[item][\"quantity\"] -= quantity\n",
    "        inventory[item][\"stock\"] += quantity\n",
    "        if cart[item][\"quantity\"] == 0:\n",
    "            del cart[item]\n",
    "    else:\n",
    "        print(f\"Cannot remove {quantity} {item}(s)\")\n",
    "\n",
    "def get_total():\n",
    "    return sum(cart[item][\"price\"] * cart[item][\"quantity\"] for item in cart)\n",
    "\n",
    "def checkout(discount=0, tax=0):\n",
    "    total = get_total()\n",
    "    total -= total * (discount / 100)\n",
    "    total += total * (tax / 100)\n",
    "    return total\n",
    "\n",
    "add_to_cart(\"ps5\", 2)\n",
    "add_to_cart(\"xbox\", 1)\n",
    "add_to_cart(\"ps4\", 1)\n",
    "remove_from_cart(\"IGI\", 1)\n",
    "print(f\"Total cost: ${checkout(discount=10, tax=8):.2f}\")"
   ]
  },
  {
   "cell_type": "code",
   "execution_count": null,
   "id": "bc7ac77c-8c64-4203-841d-2630c3ffcb79",
   "metadata": {},
   "outputs": [],
   "source": []
  }
 ],
 "metadata": {
  "kernelspec": {
   "display_name": "Python 3 (ipykernel)",
   "language": "python",
   "name": "python3"
  },
  "language_info": {
   "codemirror_mode": {
    "name": "ipython",
    "version": 3
   },
   "file_extension": ".py",
   "mimetype": "text/x-python",
   "name": "python",
   "nbconvert_exporter": "python",
   "pygments_lexer": "ipython3",
   "version": "3.12.7"
  }
 },
 "nbformat": 4,
 "nbformat_minor": 5
}
